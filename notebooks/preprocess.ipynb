{
  "cells": [
    {
      "cell_type": "markdown",
      "metadata": {},
      "source": [
        "# Preprocessing E-commerce Behavior Data for Customer Segmentation\n",
        "\n",
        "Pada notebook ini, kita akan melakukan preprocessing dataset e-commerce (October 2019 – April 2020) dari Kaggle untuk menyiapkan fitur key seperti RFM (Recency, Frequency, Monetary) dan event counts sebelum menerapkan model clustering (k-means & k-medoids).\n"
      ]
    },
    {
      "cell_type": "markdown",
      "metadata": {},
      "source": [
        "## 1. Setup Environment\n",
        "\n",
        "Pastikan paket berikut sudah terinstall: pandas, numpy, scikit-learn, scikit-learn-extra (untuk k-medoids).\n"
      ]
    },
    {
      "cell_type": "code",
      "execution_count": null,
      "metadata": {},
      "outputs": [],
      "source": [
        "%pip install pandas numpy"
      ]
    },
    {
      "cell_type": "markdown",
      "metadata": {},
      "source": [
        "# 2. Imports"
      ]
    },
    {
      "cell_type": "code",
      "execution_count": 2,
      "metadata": {},
      "outputs": [],
      "source": [
        "# 2. Imports\n",
        "import pandas as pd\n",
        "import numpy as np\n",
        "from datetime import datetime\n",
        "from sklearn.preprocessing import StandardScaler"
      ]
    },
    {
      "cell_type": "markdown",
      "metadata": {},
      "source": [
        "## 3. Load Dataset\n",
        "\n",
        "Sesuaikan path `data_path` dengan lokasi file CSV di sistem Anda."
      ]
    },
    {
      "cell_type": "code",
      "execution_count": 3,
      "metadata": {
        "id": "GDYfNI0jkaJU"
      },
      "outputs": [
        {
          "ename": "MemoryError",
          "evalue": "Unable to allocate 1.27 GiB for an array with shape (4, 42448764) and data type object",
          "output_type": "error",
          "traceback": [
            "\u001b[31m---------------------------------------------------------------------------\u001b[39m",
            "\u001b[31mMemoryError\u001b[39m                               Traceback (most recent call last)",
            "\u001b[36mCell\u001b[39m\u001b[36m \u001b[39m\u001b[32mIn[3]\u001b[39m\u001b[32m, line 5\u001b[39m\n\u001b[32m      2\u001b[39m data_path = \u001b[33m\"\u001b[39m\u001b[33m./2019-Oct.csv\u001b[39m\u001b[33m\"\u001b[39m\n\u001b[32m      4\u001b[39m \u001b[38;5;66;03m# Load data dengan parsing tanggal\u001b[39;00m\n\u001b[32m----> \u001b[39m\u001b[32m5\u001b[39m df = \u001b[43mpd\u001b[49m\u001b[43m.\u001b[49m\u001b[43mread_csv\u001b[49m\u001b[43m(\u001b[49m\u001b[43mdata_path\u001b[49m\u001b[43m,\u001b[49m\u001b[43m \u001b[49m\u001b[43mparse_dates\u001b[49m\u001b[43m=\u001b[49m\u001b[43m[\u001b[49m\u001b[33;43m\"\u001b[39;49m\u001b[33;43mevent_time\u001b[39;49m\u001b[33;43m\"\u001b[39;49m\u001b[43m]\u001b[49m\u001b[43m)\u001b[49m\n\u001b[32m      7\u001b[39m \u001b[38;5;66;03m# Tampilkan beberapa baris pertama untuk verifikasi\u001b[39;00m\n\u001b[32m      8\u001b[39m \u001b[38;5;28mprint\u001b[39m(df.head())\n",
            "\u001b[36mFile \u001b[39m\u001b[32mc:\\Users\\Administrator\\AppData\\Local\\Programs\\Python\\Python312\\Lib\\site-packages\\pandas\\io\\parsers\\readers.py:1026\u001b[39m, in \u001b[36mread_csv\u001b[39m\u001b[34m(filepath_or_buffer, sep, delimiter, header, names, index_col, usecols, dtype, engine, converters, true_values, false_values, skipinitialspace, skiprows, skipfooter, nrows, na_values, keep_default_na, na_filter, verbose, skip_blank_lines, parse_dates, infer_datetime_format, keep_date_col, date_parser, date_format, dayfirst, cache_dates, iterator, chunksize, compression, thousands, decimal, lineterminator, quotechar, quoting, doublequote, escapechar, comment, encoding, encoding_errors, dialect, on_bad_lines, delim_whitespace, low_memory, memory_map, float_precision, storage_options, dtype_backend)\u001b[39m\n\u001b[32m   1013\u001b[39m kwds_defaults = _refine_defaults_read(\n\u001b[32m   1014\u001b[39m     dialect,\n\u001b[32m   1015\u001b[39m     delimiter,\n\u001b[32m   (...)\u001b[39m\u001b[32m   1022\u001b[39m     dtype_backend=dtype_backend,\n\u001b[32m   1023\u001b[39m )\n\u001b[32m   1024\u001b[39m kwds.update(kwds_defaults)\n\u001b[32m-> \u001b[39m\u001b[32m1026\u001b[39m \u001b[38;5;28;01mreturn\u001b[39;00m \u001b[43m_read\u001b[49m\u001b[43m(\u001b[49m\u001b[43mfilepath_or_buffer\u001b[49m\u001b[43m,\u001b[49m\u001b[43m \u001b[49m\u001b[43mkwds\u001b[49m\u001b[43m)\u001b[49m\n",
            "\u001b[36mFile \u001b[39m\u001b[32mc:\\Users\\Administrator\\AppData\\Local\\Programs\\Python\\Python312\\Lib\\site-packages\\pandas\\io\\parsers\\readers.py:626\u001b[39m, in \u001b[36m_read\u001b[39m\u001b[34m(filepath_or_buffer, kwds)\u001b[39m\n\u001b[32m    623\u001b[39m     \u001b[38;5;28;01mreturn\u001b[39;00m parser\n\u001b[32m    625\u001b[39m \u001b[38;5;28;01mwith\u001b[39;00m parser:\n\u001b[32m--> \u001b[39m\u001b[32m626\u001b[39m     \u001b[38;5;28;01mreturn\u001b[39;00m \u001b[43mparser\u001b[49m\u001b[43m.\u001b[49m\u001b[43mread\u001b[49m\u001b[43m(\u001b[49m\u001b[43mnrows\u001b[49m\u001b[43m)\u001b[49m\n",
            "\u001b[36mFile \u001b[39m\u001b[32mc:\\Users\\Administrator\\AppData\\Local\\Programs\\Python\\Python312\\Lib\\site-packages\\pandas\\io\\parsers\\readers.py:1968\u001b[39m, in \u001b[36mTextFileReader.read\u001b[39m\u001b[34m(self, nrows)\u001b[39m\n\u001b[32m   1965\u001b[39m     \u001b[38;5;28;01melse\u001b[39;00m:\n\u001b[32m   1966\u001b[39m         new_col_dict = col_dict\n\u001b[32m-> \u001b[39m\u001b[32m1968\u001b[39m     df = \u001b[43mDataFrame\u001b[49m\u001b[43m(\u001b[49m\n\u001b[32m   1969\u001b[39m \u001b[43m        \u001b[49m\u001b[43mnew_col_dict\u001b[49m\u001b[43m,\u001b[49m\n\u001b[32m   1970\u001b[39m \u001b[43m        \u001b[49m\u001b[43mcolumns\u001b[49m\u001b[43m=\u001b[49m\u001b[43mcolumns\u001b[49m\u001b[43m,\u001b[49m\n\u001b[32m   1971\u001b[39m \u001b[43m        \u001b[49m\u001b[43mindex\u001b[49m\u001b[43m=\u001b[49m\u001b[43mindex\u001b[49m\u001b[43m,\u001b[49m\n\u001b[32m   1972\u001b[39m \u001b[43m        \u001b[49m\u001b[43mcopy\u001b[49m\u001b[43m=\u001b[49m\u001b[38;5;129;43;01mnot\u001b[39;49;00m\u001b[43m \u001b[49m\u001b[43musing_copy_on_write\u001b[49m\u001b[43m(\u001b[49m\u001b[43m)\u001b[49m\u001b[43m,\u001b[49m\n\u001b[32m   1973\u001b[39m \u001b[43m    \u001b[49m\u001b[43m)\u001b[49m\n\u001b[32m   1975\u001b[39m     \u001b[38;5;28mself\u001b[39m._currow += new_rows\n\u001b[32m   1976\u001b[39m \u001b[38;5;28;01mreturn\u001b[39;00m df\n",
            "\u001b[36mFile \u001b[39m\u001b[32mc:\\Users\\Administrator\\AppData\\Local\\Programs\\Python\\Python312\\Lib\\site-packages\\pandas\\core\\frame.py:767\u001b[39m, in \u001b[36mDataFrame.__init__\u001b[39m\u001b[34m(self, data, index, columns, dtype, copy)\u001b[39m\n\u001b[32m    761\u001b[39m     mgr = \u001b[38;5;28mself\u001b[39m._init_mgr(\n\u001b[32m    762\u001b[39m         data, axes={\u001b[33m\"\u001b[39m\u001b[33mindex\u001b[39m\u001b[33m\"\u001b[39m: index, \u001b[33m\"\u001b[39m\u001b[33mcolumns\u001b[39m\u001b[33m\"\u001b[39m: columns}, dtype=dtype, copy=copy\n\u001b[32m    763\u001b[39m     )\n\u001b[32m    765\u001b[39m \u001b[38;5;28;01melif\u001b[39;00m \u001b[38;5;28misinstance\u001b[39m(data, \u001b[38;5;28mdict\u001b[39m):\n\u001b[32m    766\u001b[39m     \u001b[38;5;66;03m# GH#38939 de facto copy defaults to False only in non-dict cases\u001b[39;00m\n\u001b[32m--> \u001b[39m\u001b[32m767\u001b[39m     mgr = \u001b[43mdict_to_mgr\u001b[49m\u001b[43m(\u001b[49m\u001b[43mdata\u001b[49m\u001b[43m,\u001b[49m\u001b[43m \u001b[49m\u001b[43mindex\u001b[49m\u001b[43m,\u001b[49m\u001b[43m \u001b[49m\u001b[43mcolumns\u001b[49m\u001b[43m,\u001b[49m\u001b[43m \u001b[49m\u001b[43mdtype\u001b[49m\u001b[43m=\u001b[49m\u001b[43mdtype\u001b[49m\u001b[43m,\u001b[49m\u001b[43m \u001b[49m\u001b[43mcopy\u001b[49m\u001b[43m=\u001b[49m\u001b[43mcopy\u001b[49m\u001b[43m,\u001b[49m\u001b[43m \u001b[49m\u001b[43mtyp\u001b[49m\u001b[43m=\u001b[49m\u001b[43mmanager\u001b[49m\u001b[43m)\u001b[49m\n\u001b[32m    768\u001b[39m \u001b[38;5;28;01melif\u001b[39;00m \u001b[38;5;28misinstance\u001b[39m(data, ma.MaskedArray):\n\u001b[32m    769\u001b[39m     \u001b[38;5;28;01mfrom\u001b[39;00m\u001b[38;5;250m \u001b[39m\u001b[34;01mnumpy\u001b[39;00m\u001b[34;01m.\u001b[39;00m\u001b[34;01mma\u001b[39;00m\u001b[38;5;250m \u001b[39m\u001b[38;5;28;01mimport\u001b[39;00m mrecords\n",
            "\u001b[36mFile \u001b[39m\u001b[32mc:\\Users\\Administrator\\AppData\\Local\\Programs\\Python\\Python312\\Lib\\site-packages\\pandas\\core\\internals\\construction.py:503\u001b[39m, in \u001b[36mdict_to_mgr\u001b[39m\u001b[34m(data, index, columns, dtype, typ, copy)\u001b[39m\n\u001b[32m    499\u001b[39m     \u001b[38;5;28;01melse\u001b[39;00m:\n\u001b[32m    500\u001b[39m         \u001b[38;5;66;03m# dtype check to exclude e.g. range objects, scalars\u001b[39;00m\n\u001b[32m    501\u001b[39m         arrays = [x.copy() \u001b[38;5;28;01mif\u001b[39;00m \u001b[38;5;28mhasattr\u001b[39m(x, \u001b[33m\"\u001b[39m\u001b[33mdtype\u001b[39m\u001b[33m\"\u001b[39m) \u001b[38;5;28;01melse\u001b[39;00m x \u001b[38;5;28;01mfor\u001b[39;00m x \u001b[38;5;129;01min\u001b[39;00m arrays]\n\u001b[32m--> \u001b[39m\u001b[32m503\u001b[39m \u001b[38;5;28;01mreturn\u001b[39;00m \u001b[43marrays_to_mgr\u001b[49m\u001b[43m(\u001b[49m\u001b[43marrays\u001b[49m\u001b[43m,\u001b[49m\u001b[43m \u001b[49m\u001b[43mcolumns\u001b[49m\u001b[43m,\u001b[49m\u001b[43m \u001b[49m\u001b[43mindex\u001b[49m\u001b[43m,\u001b[49m\u001b[43m \u001b[49m\u001b[43mdtype\u001b[49m\u001b[43m=\u001b[49m\u001b[43mdtype\u001b[49m\u001b[43m,\u001b[49m\u001b[43m \u001b[49m\u001b[43mtyp\u001b[49m\u001b[43m=\u001b[49m\u001b[43mtyp\u001b[49m\u001b[43m,\u001b[49m\u001b[43m \u001b[49m\u001b[43mconsolidate\u001b[49m\u001b[43m=\u001b[49m\u001b[43mcopy\u001b[49m\u001b[43m)\u001b[49m\n",
            "\u001b[36mFile \u001b[39m\u001b[32mc:\\Users\\Administrator\\AppData\\Local\\Programs\\Python\\Python312\\Lib\\site-packages\\pandas\\core\\internals\\construction.py:152\u001b[39m, in \u001b[36marrays_to_mgr\u001b[39m\u001b[34m(arrays, columns, index, dtype, verify_integrity, typ, consolidate)\u001b[39m\n\u001b[32m    149\u001b[39m axes = [columns, index]\n\u001b[32m    151\u001b[39m \u001b[38;5;28;01mif\u001b[39;00m typ == \u001b[33m\"\u001b[39m\u001b[33mblock\u001b[39m\u001b[33m\"\u001b[39m:\n\u001b[32m--> \u001b[39m\u001b[32m152\u001b[39m     \u001b[38;5;28;01mreturn\u001b[39;00m \u001b[43mcreate_block_manager_from_column_arrays\u001b[49m\u001b[43m(\u001b[49m\n\u001b[32m    153\u001b[39m \u001b[43m        \u001b[49m\u001b[43marrays\u001b[49m\u001b[43m,\u001b[49m\u001b[43m \u001b[49m\u001b[43maxes\u001b[49m\u001b[43m,\u001b[49m\u001b[43m \u001b[49m\u001b[43mconsolidate\u001b[49m\u001b[43m=\u001b[49m\u001b[43mconsolidate\u001b[49m\u001b[43m,\u001b[49m\u001b[43m \u001b[49m\u001b[43mrefs\u001b[49m\u001b[43m=\u001b[49m\u001b[43mrefs\u001b[49m\n\u001b[32m    154\u001b[39m \u001b[43m    \u001b[49m\u001b[43m)\u001b[49m\n\u001b[32m    155\u001b[39m \u001b[38;5;28;01melif\u001b[39;00m typ == \u001b[33m\"\u001b[39m\u001b[33marray\u001b[39m\u001b[33m\"\u001b[39m:\n\u001b[32m    156\u001b[39m     \u001b[38;5;28;01mreturn\u001b[39;00m ArrayManager(arrays, [index, columns])\n",
            "\u001b[36mFile \u001b[39m\u001b[32mc:\\Users\\Administrator\\AppData\\Local\\Programs\\Python\\Python312\\Lib\\site-packages\\pandas\\core\\internals\\managers.py:2142\u001b[39m, in \u001b[36mcreate_block_manager_from_column_arrays\u001b[39m\u001b[34m(arrays, axes, consolidate, refs)\u001b[39m\n\u001b[32m   2140\u001b[39m     raise_construction_error(\u001b[38;5;28mlen\u001b[39m(arrays), arrays[\u001b[32m0\u001b[39m].shape, axes, e)\n\u001b[32m   2141\u001b[39m \u001b[38;5;28;01mif\u001b[39;00m consolidate:\n\u001b[32m-> \u001b[39m\u001b[32m2142\u001b[39m     \u001b[43mmgr\u001b[49m\u001b[43m.\u001b[49m\u001b[43m_consolidate_inplace\u001b[49m\u001b[43m(\u001b[49m\u001b[43m)\u001b[49m\n\u001b[32m   2143\u001b[39m \u001b[38;5;28;01mreturn\u001b[39;00m mgr\n",
            "\u001b[36mFile \u001b[39m\u001b[32mc:\\Users\\Administrator\\AppData\\Local\\Programs\\Python\\Python312\\Lib\\site-packages\\pandas\\core\\internals\\managers.py:1786\u001b[39m, in \u001b[36mBlockManager._consolidate_inplace\u001b[39m\u001b[34m(self)\u001b[39m\n\u001b[32m   1780\u001b[39m \u001b[38;5;28;01mdef\u001b[39;00m\u001b[38;5;250m \u001b[39m\u001b[34m_consolidate_inplace\u001b[39m(\u001b[38;5;28mself\u001b[39m) -> \u001b[38;5;28;01mNone\u001b[39;00m:\n\u001b[32m   1781\u001b[39m     \u001b[38;5;66;03m# In general, _consolidate_inplace should only be called via\u001b[39;00m\n\u001b[32m   1782\u001b[39m     \u001b[38;5;66;03m#  DataFrame._consolidate_inplace, otherwise we will fail to invalidate\u001b[39;00m\n\u001b[32m   1783\u001b[39m     \u001b[38;5;66;03m#  the DataFrame's _item_cache. The exception is for newly-created\u001b[39;00m\n\u001b[32m   1784\u001b[39m     \u001b[38;5;66;03m#  BlockManager objects not yet attached to a DataFrame.\u001b[39;00m\n\u001b[32m   1785\u001b[39m     \u001b[38;5;28;01mif\u001b[39;00m \u001b[38;5;129;01mnot\u001b[39;00m \u001b[38;5;28mself\u001b[39m.is_consolidated():\n\u001b[32m-> \u001b[39m\u001b[32m1786\u001b[39m         \u001b[38;5;28mself\u001b[39m.blocks = \u001b[43m_consolidate\u001b[49m\u001b[43m(\u001b[49m\u001b[38;5;28;43mself\u001b[39;49m\u001b[43m.\u001b[49m\u001b[43mblocks\u001b[49m\u001b[43m)\u001b[49m\n\u001b[32m   1787\u001b[39m         \u001b[38;5;28mself\u001b[39m._is_consolidated = \u001b[38;5;28;01mTrue\u001b[39;00m\n\u001b[32m   1788\u001b[39m         \u001b[38;5;28mself\u001b[39m._known_consolidated = \u001b[38;5;28;01mTrue\u001b[39;00m\n",
            "\u001b[36mFile \u001b[39m\u001b[32mc:\\Users\\Administrator\\AppData\\Local\\Programs\\Python\\Python312\\Lib\\site-packages\\pandas\\core\\internals\\managers.py:2267\u001b[39m, in \u001b[36m_consolidate\u001b[39m\u001b[34m(blocks)\u001b[39m\n\u001b[32m   2265\u001b[39m new_blocks: \u001b[38;5;28mlist\u001b[39m[Block] = []\n\u001b[32m   2266\u001b[39m \u001b[38;5;28;01mfor\u001b[39;00m (_can_consolidate, dtype), group_blocks \u001b[38;5;129;01min\u001b[39;00m grouper:\n\u001b[32m-> \u001b[39m\u001b[32m2267\u001b[39m     merged_blocks, _ = \u001b[43m_merge_blocks\u001b[49m\u001b[43m(\u001b[49m\n\u001b[32m   2268\u001b[39m \u001b[43m        \u001b[49m\u001b[38;5;28;43mlist\u001b[39;49m\u001b[43m(\u001b[49m\u001b[43mgroup_blocks\u001b[49m\u001b[43m)\u001b[49m\u001b[43m,\u001b[49m\u001b[43m \u001b[49m\u001b[43mdtype\u001b[49m\u001b[43m=\u001b[49m\u001b[43mdtype\u001b[49m\u001b[43m,\u001b[49m\u001b[43m \u001b[49m\u001b[43mcan_consolidate\u001b[49m\u001b[43m=\u001b[49m\u001b[43m_can_consolidate\u001b[49m\n\u001b[32m   2269\u001b[39m \u001b[43m    \u001b[49m\u001b[43m)\u001b[49m\n\u001b[32m   2270\u001b[39m     new_blocks = extend_blocks(merged_blocks, new_blocks)\n\u001b[32m   2271\u001b[39m \u001b[38;5;28;01mreturn\u001b[39;00m \u001b[38;5;28mtuple\u001b[39m(new_blocks)\n",
            "\u001b[36mFile \u001b[39m\u001b[32mc:\\Users\\Administrator\\AppData\\Local\\Programs\\Python\\Python312\\Lib\\site-packages\\pandas\\core\\internals\\managers.py:2299\u001b[39m, in \u001b[36m_merge_blocks\u001b[39m\u001b[34m(blocks, dtype, can_consolidate)\u001b[39m\n\u001b[32m   2296\u001b[39m     new_values = bvals2[\u001b[32m0\u001b[39m]._concat_same_type(bvals2, axis=\u001b[32m0\u001b[39m)\n\u001b[32m   2298\u001b[39m argsort = np.argsort(new_mgr_locs)\n\u001b[32m-> \u001b[39m\u001b[32m2299\u001b[39m new_values = \u001b[43mnew_values\u001b[49m\u001b[43m[\u001b[49m\u001b[43margsort\u001b[49m\u001b[43m]\u001b[49m\n\u001b[32m   2300\u001b[39m new_mgr_locs = new_mgr_locs[argsort]\n\u001b[32m   2302\u001b[39m bp = BlockPlacement(new_mgr_locs)\n",
            "\u001b[31mMemoryError\u001b[39m: Unable to allocate 1.27 GiB for an array with shape (4, 42448764) and data type object"
          ]
        }
      ],
      "source": [
        "## 3. Load Dataset\n",
        "data_path = \"./2019-Oct.csv\"\n",
        "\n",
        "# Load data dengan parsing tanggal\n",
        "df = pd.read_csv(data_path, parse_dates=[\"event_time\"])\n",
        "\n",
        "# Tampilkan beberapa baris pertama untuk verifikasi\n",
        "print(df.head())\n"
      ]
    },
    {
      "cell_type": "markdown",
      "metadata": {},
      "source": [
        "## 4. Data Cleaning\n",
        "\n",
        "- Buang baris tanpa `user_id` atau `user_session`.\n",
        "- Hanya ambil event valid (view, cart, remove_from_cart, purchase)."
      ]
    },
    {
      "cell_type": "code",
      "execution_count": 3,
      "metadata": {
        "id": "zUeooVHNkjhh"
      },
      "outputs": [],
      "source": [
        "# Drop missing user/session\n",
        "df = df.dropna(subset=[\"user_id\", \"user_session\"])\n",
        "\n",
        "# Filter event_type jika perlu\n",
        "df = df[df[\"event_type\"].isin([\"view\", \"cart\", \"remove_from_cart\", \"purchase\"])]\n",
        "\n",
        "print(\"Shape setelah cleaning:\", df.shape)\n"
      ]
    },
    {
      "cell_type": "markdown",
      "metadata": {},
      "source": [
        "## 5. Feature Engineering\n",
        "\n",
        "1. **Event Counts** per user: view_count, cart_count, remove_count, purchase_count\n",
        "2. **Recency**: hari sejak transaksi terakhir\n",
        "3. **Frequency**: jumlah purchase events\n",
        "4. **Monetary**: total nilai pembelian"
      ]
    },
    {
      "cell_type": "code",
      "execution_count": 6,
      "metadata": {},
      "outputs": [
        {
          "data": {
            "text/html": [
              "<div>\n",
              "<style scoped>\n",
              "    .dataframe tbody tr th:only-of-type {\n",
              "        vertical-align: middle;\n",
              "    }\n",
              "\n",
              "    .dataframe tbody tr th {\n",
              "        vertical-align: top;\n",
              "    }\n",
              "\n",
              "    .dataframe thead th {\n",
              "        text-align: right;\n",
              "    }\n",
              "</style>\n",
              "<table border=\"1\" class=\"dataframe\">\n",
              "  <thead>\n",
              "    <tr style=\"text-align: right;\">\n",
              "      <th></th>\n",
              "      <th>event_time</th>\n",
              "      <th>event_type</th>\n",
              "      <th>product_id</th>\n",
              "      <th>category_id</th>\n",
              "      <th>category_code</th>\n",
              "      <th>brand</th>\n",
              "      <th>price</th>\n",
              "      <th>user_id</th>\n",
              "      <th>user_session</th>\n",
              "    </tr>\n",
              "  </thead>\n",
              "  <tbody>\n",
              "    <tr>\n",
              "      <th>0</th>\n",
              "      <td>2019-10-01 00:00:00+00:00</td>\n",
              "      <td>view</td>\n",
              "      <td>44600062</td>\n",
              "      <td>2103807459595387724</td>\n",
              "      <td>NaN</td>\n",
              "      <td>shiseido</td>\n",
              "      <td>35.79</td>\n",
              "      <td>541312140</td>\n",
              "      <td>72d76fde-8bb3-4e00-8c23-a032dfed738c</td>\n",
              "    </tr>\n",
              "    <tr>\n",
              "      <th>1</th>\n",
              "      <td>2019-10-01 00:00:00+00:00</td>\n",
              "      <td>view</td>\n",
              "      <td>3900821</td>\n",
              "      <td>2053013552326770905</td>\n",
              "      <td>appliances.environment.water_heater</td>\n",
              "      <td>aqua</td>\n",
              "      <td>33.20</td>\n",
              "      <td>554748717</td>\n",
              "      <td>9333dfbd-b87a-4708-9857-6336556b0fcc</td>\n",
              "    </tr>\n",
              "    <tr>\n",
              "      <th>2</th>\n",
              "      <td>2019-10-01 00:00:01+00:00</td>\n",
              "      <td>view</td>\n",
              "      <td>17200506</td>\n",
              "      <td>2053013559792632471</td>\n",
              "      <td>furniture.living_room.sofa</td>\n",
              "      <td>NaN</td>\n",
              "      <td>543.10</td>\n",
              "      <td>519107250</td>\n",
              "      <td>566511c2-e2e3-422b-b695-cf8e6e792ca8</td>\n",
              "    </tr>\n",
              "    <tr>\n",
              "      <th>3</th>\n",
              "      <td>2019-10-01 00:00:01+00:00</td>\n",
              "      <td>view</td>\n",
              "      <td>1307067</td>\n",
              "      <td>2053013558920217191</td>\n",
              "      <td>computers.notebook</td>\n",
              "      <td>lenovo</td>\n",
              "      <td>251.74</td>\n",
              "      <td>550050854</td>\n",
              "      <td>7c90fc70-0e80-4590-96f3-13c02c18c713</td>\n",
              "    </tr>\n",
              "    <tr>\n",
              "      <th>4</th>\n",
              "      <td>2019-10-01 00:00:04+00:00</td>\n",
              "      <td>view</td>\n",
              "      <td>1004237</td>\n",
              "      <td>2053013555631882655</td>\n",
              "      <td>electronics.smartphone</td>\n",
              "      <td>apple</td>\n",
              "      <td>1081.98</td>\n",
              "      <td>535871217</td>\n",
              "      <td>c6bd7419-2748-4c56-95b4-8cec9ff8b80d</td>\n",
              "    </tr>\n",
              "  </tbody>\n",
              "</table>\n",
              "</div>"
            ],
            "text/plain": [
              "                 event_time event_type  product_id          category_id  \\\n",
              "0 2019-10-01 00:00:00+00:00       view    44600062  2103807459595387724   \n",
              "1 2019-10-01 00:00:00+00:00       view     3900821  2053013552326770905   \n",
              "2 2019-10-01 00:00:01+00:00       view    17200506  2053013559792632471   \n",
              "3 2019-10-01 00:00:01+00:00       view     1307067  2053013558920217191   \n",
              "4 2019-10-01 00:00:04+00:00       view     1004237  2053013555631882655   \n",
              "\n",
              "                         category_code     brand    price    user_id  \\\n",
              "0                                  NaN  shiseido    35.79  541312140   \n",
              "1  appliances.environment.water_heater      aqua    33.20  554748717   \n",
              "2           furniture.living_room.sofa       NaN   543.10  519107250   \n",
              "3                   computers.notebook    lenovo   251.74  550050854   \n",
              "4               electronics.smartphone     apple  1081.98  535871217   \n",
              "\n",
              "                           user_session  \n",
              "0  72d76fde-8bb3-4e00-8c23-a032dfed738c  \n",
              "1  9333dfbd-b87a-4708-9857-6336556b0fcc  \n",
              "2  566511c2-e2e3-422b-b695-cf8e6e792ca8  \n",
              "3  7c90fc70-0e80-4590-96f3-13c02c18c713  \n",
              "4  c6bd7419-2748-4c56-95b4-8cec9ff8b80d  "
            ]
          },
          "execution_count": 6,
          "metadata": {},
          "output_type": "execute_result"
        }
      ],
      "source": [
        "# 5.1 Event Counts\n",
        "event_counts = (\n",
        "    df.pivot_table(\n",
        "        index=\"user_id\",\n",
        "        columns=\"event_type\",\n",
        "        values=\"product_id\",\n",
        "        aggfunc=\"count\",\n",
        "        fill_value=0\n",
        "    )\n",
        "    .rename(columns={\n",
        "        'view': 'view_count',\n",
        "        'cart': 'cart_count',\n",
        "        'remove_from_cart': 'remove_count',\n",
        "        'purchase': 'purchase_count'\n",
        "    })\n",
        ")\n"
      ]
    },
    {
      "cell_type": "code",
      "execution_count": 5,
      "metadata": {},
      "outputs": [
        {
          "data": {
            "text/html": [
              "<div>\n",
              "<style scoped>\n",
              "    .dataframe tbody tr th:only-of-type {\n",
              "        vertical-align: middle;\n",
              "    }\n",
              "\n",
              "    .dataframe tbody tr th {\n",
              "        vertical-align: top;\n",
              "    }\n",
              "\n",
              "    .dataframe thead th {\n",
              "        text-align: right;\n",
              "    }\n",
              "</style>\n",
              "<table border=\"1\" class=\"dataframe\">\n",
              "  <thead>\n",
              "    <tr style=\"text-align: right;\">\n",
              "      <th></th>\n",
              "      <th>event_time</th>\n",
              "      <th>event_type</th>\n",
              "      <th>product_id</th>\n",
              "      <th>category_id</th>\n",
              "      <th>category_code</th>\n",
              "      <th>brand</th>\n",
              "      <th>price</th>\n",
              "      <th>user_id</th>\n",
              "      <th>user_session</th>\n",
              "    </tr>\n",
              "  </thead>\n",
              "  <tbody>\n",
              "    <tr>\n",
              "      <th>42448759</th>\n",
              "      <td>2019-10-31 23:59:58+00:00</td>\n",
              "      <td>view</td>\n",
              "      <td>2300275</td>\n",
              "      <td>2053013560530830019</td>\n",
              "      <td>electronics.camera.video</td>\n",
              "      <td>gopro</td>\n",
              "      <td>527.40</td>\n",
              "      <td>537931532</td>\n",
              "      <td>22c57267-da98-4f28-9a9c-18bb5b385193</td>\n",
              "    </tr>\n",
              "    <tr>\n",
              "      <th>42448760</th>\n",
              "      <td>2019-10-31 23:59:58+00:00</td>\n",
              "      <td>view</td>\n",
              "      <td>10800172</td>\n",
              "      <td>2053013554994348409</td>\n",
              "      <td>NaN</td>\n",
              "      <td>redmond</td>\n",
              "      <td>61.75</td>\n",
              "      <td>527322328</td>\n",
              "      <td>5054190a-46cb-4211-a8f1-16fc1a060ed8</td>\n",
              "    </tr>\n",
              "    <tr>\n",
              "      <th>42448761</th>\n",
              "      <td>2019-10-31 23:59:58+00:00</td>\n",
              "      <td>view</td>\n",
              "      <td>5701038</td>\n",
              "      <td>2053013553970938175</td>\n",
              "      <td>auto.accessories.player</td>\n",
              "      <td>kenwood</td>\n",
              "      <td>128.70</td>\n",
              "      <td>566280422</td>\n",
              "      <td>05b6c62b-992f-4e8e-91f7-961bcb4719cd</td>\n",
              "    </tr>\n",
              "    <tr>\n",
              "      <th>42448762</th>\n",
              "      <td>2019-10-31 23:59:59+00:00</td>\n",
              "      <td>view</td>\n",
              "      <td>21407424</td>\n",
              "      <td>2053013561579406073</td>\n",
              "      <td>electronics.clocks</td>\n",
              "      <td>tissot</td>\n",
              "      <td>689.85</td>\n",
              "      <td>513118352</td>\n",
              "      <td>4c14bf2a-2820-4504-929d-046356a5a204</td>\n",
              "    </tr>\n",
              "    <tr>\n",
              "      <th>42448763</th>\n",
              "      <td>2019-10-31 23:59:59+00:00</td>\n",
              "      <td>view</td>\n",
              "      <td>13300120</td>\n",
              "      <td>2053013557166998015</td>\n",
              "      <td>NaN</td>\n",
              "      <td>swisshome</td>\n",
              "      <td>155.73</td>\n",
              "      <td>525266378</td>\n",
              "      <td>6e57d2d7-6022-46e6-81d6-fa77f14cefd8</td>\n",
              "    </tr>\n",
              "  </tbody>\n",
              "</table>\n",
              "</div>"
            ],
            "text/plain": [
              "                        event_time event_type  product_id  \\\n",
              "42448759 2019-10-31 23:59:58+00:00       view     2300275   \n",
              "42448760 2019-10-31 23:59:58+00:00       view    10800172   \n",
              "42448761 2019-10-31 23:59:58+00:00       view     5701038   \n",
              "42448762 2019-10-31 23:59:59+00:00       view    21407424   \n",
              "42448763 2019-10-31 23:59:59+00:00       view    13300120   \n",
              "\n",
              "                  category_id             category_code      brand   price  \\\n",
              "42448759  2053013560530830019  electronics.camera.video      gopro  527.40   \n",
              "42448760  2053013554994348409                       NaN    redmond   61.75   \n",
              "42448761  2053013553970938175   auto.accessories.player    kenwood  128.70   \n",
              "42448762  2053013561579406073        electronics.clocks     tissot  689.85   \n",
              "42448763  2053013557166998015                       NaN  swisshome  155.73   \n",
              "\n",
              "            user_id                          user_session  \n",
              "42448759  537931532  22c57267-da98-4f28-9a9c-18bb5b385193  \n",
              "42448760  527322328  5054190a-46cb-4211-a8f1-16fc1a060ed8  \n",
              "42448761  566280422  05b6c62b-992f-4e8e-91f7-961bcb4719cd  \n",
              "42448762  513118352  4c14bf2a-2820-4504-929d-046356a5a204  \n",
              "42448763  525266378  6e57d2d7-6022-46e6-81d6-fa77f14cefd8  "
            ]
          },
          "execution_count": 5,
          "metadata": {},
          "output_type": "execute_result"
        }
      ],
      "source": [
        "# 5.2 Recency\n",
        "group_purchase = df[df['event_type']=='purchase']\n",
        "last_purchase = (\n",
        "    group_purchase\n",
        "    .groupby('user_id')['event_time']\n",
        "    .max()\n",
        "    .to_frame('last_purchase_date')\n",
        ")\n",
        "current_date = df['event_time'].max()\n",
        "last_purchase['recency_days'] = (\n",
        "    current_date - last_purchase['last_purchase_date']\n",
        ").dt.days"
      ]
    },
    {
      "cell_type": "code",
      "execution_count": 7,
      "metadata": {
        "id": "eqQyG2NqkqOV"
      },
      "outputs": [],
      "source": [
        "# 5.3 Frequency\n",
        "temp = group_purchase.groupby('user_id')['event_time'].count()\n",
        "frequency = temp.to_frame('frequency')\n",
        "\n",
        "# 5.4 Monetary\n",
        "monetary = (\n",
        "    group_purchase\n",
        "    .groupby('user_id')['price']\n",
        "    .sum()\n",
        "    .to_frame('monetary')\n",
        ")"
      ]
    },
    {
      "cell_type": "markdown",
      "metadata": {},
      "source": [
        "## 6. Gabungkan dan Tangani Nilai Hilang"
      ]
    },
    {
      "cell_type": "code",
      "execution_count": 8,
      "metadata": {
        "id": "_P3NzROiktgP"
      },
      "outputs": [],
      "source": [
        "# Join semua fitur\n",
        "data = (\n",
        "    event_counts\n",
        "    .join(last_purchase['recency_days'], how='left')\n",
        "    .join(frequency, how='left')\n",
        "    .join(monetary, how='left')\n",
        ")"
      ]
    },
    {
      "cell_type": "code",
      "execution_count": 9,
      "metadata": {
        "id": "Y_DRXJ9uk38k"
      },
      "outputs": [],
      "source": [
        "# Isi NaN: recency hari maksimal jika belum pernah purchase, frequency/monetary 0\n",
        "max_recency = last_purchase['recency_days'].max()\n",
        "\n",
        "data.fillna({\n",
        "    'recency_days': max_recency,\n",
        "    'frequency': 0,\n",
        "    'monetary': 0\n",
        "}, inplace=True)\n",
        "\n",
        "print(\"Data features sample:\")\n",
        "print(data.head())\n"
      ]
    },
    {
      "cell_type": "markdown",
      "metadata": {},
      "source": [
        "## 7. Transformasi dan Scaling\n",
        "\n",
        "- Log-transform fitur skewed untuk view, cart, remove, purchase, frequency, monetary\n",
        "- Scale untuk k-means pada subset fitur RFM\n"
      ]
    },
    {
      "cell_type": "code",
      "execution_count": null,
      "metadata": {},
      "outputs": [],
      "source": [
        "# Log-transform\n",
        "to_log = ['view_count', 'cart_count', 'remove_count', 'purchase_count', 'frequency', 'monetary']\n",
        "for col in to_log:\n",
        "    data[f'log_{col}'] = np.log1p(data[col])\n",
        "\n",
        "# Standard scaling untuk k-means pada RFM\n",
        "features_kmeans = ['recency_days', 'log_purchase_count', 'log_frequency', 'log_monetary']\n",
        "scaler = StandardScaler()\n",
        "data_scaled = data.copy()\n",
        "data_scaled[features_kmeans] = scaler.fit_transform(data_scaled[features_kmeans])\n",
        "\n",
        "print(\"Contoh data scaled:\")\n",
        "print(data_scaled[features_kmeans].head())"
      ]
    }
  ],
  "metadata": {
    "colab": {
      "provenance": []
    },
    "kernelspec": {
      "display_name": "Python 3",
      "name": "python3"
    },
    "language_info": {
      "codemirror_mode": {
        "name": "ipython",
        "version": 3
      },
      "file_extension": ".py",
      "mimetype": "text/x-python",
      "name": "python",
      "nbconvert_exporter": "python",
      "pygments_lexer": "ipython3",
      "version": "3.12.3"
    }
  },
  "nbformat": 4,
  "nbformat_minor": 0
}
